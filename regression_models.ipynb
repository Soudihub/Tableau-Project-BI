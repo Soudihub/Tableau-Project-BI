{
 "cells": [
  {
   "cell_type": "code",
   "execution_count": 284,
   "id": "5366ed3b",
   "metadata": {},
   "outputs": [],
   "source": [
    "import numpy as np\n",
    "import pandas as pd\n",
    "import matplotlib.pyplot as plt\n",
    "from sklearn.metrics import accuracy_score, auc, roc_auc_score, roc_curve, mean_squared_error\n",
    "from sklearn.preprocessing import StandardScaler, OneHotEncoder\n",
    "from sklearn.model_selection import train_test_split, StratifiedKFold, KFold\n",
    "from sklearn.pipeline import make_pipeline\n",
    "from sklearn.linear_model import LogisticRegression, LinearRegression\n",
    "from sklearn.ensemble import GradientBoostingRegressor, RandomForestRegressor\n",
    "import seaborn as sns\n",
    "import lightgbm as lgb\n",
    "np.random.seed(587)"
   ]
  },
  {
   "cell_type": "code",
   "execution_count": 285,
   "id": "f292fc80",
   "metadata": {},
   "outputs": [],
   "source": [
    "df = pd.read_csv('WA_Fn-UseC_-Accounts-Receivable.csv')"
   ]
  },
  {
   "cell_type": "code",
   "execution_count": 286,
   "id": "fb492e3c",
   "metadata": {},
   "outputs": [
    {
     "data": {
      "text/html": [
       "<div>\n",
       "<style scoped>\n",
       "    .dataframe tbody tr th:only-of-type {\n",
       "        vertical-align: middle;\n",
       "    }\n",
       "\n",
       "    .dataframe tbody tr th {\n",
       "        vertical-align: top;\n",
       "    }\n",
       "\n",
       "    .dataframe thead th {\n",
       "        text-align: right;\n",
       "    }\n",
       "</style>\n",
       "<table border=\"1\" class=\"dataframe\">\n",
       "  <thead>\n",
       "    <tr style=\"text-align: right;\">\n",
       "      <th></th>\n",
       "      <th>countryCode</th>\n",
       "      <th>customerID</th>\n",
       "      <th>PaperlessDate</th>\n",
       "      <th>invoiceNumber</th>\n",
       "      <th>InvoiceDate</th>\n",
       "      <th>DueDate</th>\n",
       "      <th>InvoiceAmount</th>\n",
       "      <th>Disputed</th>\n",
       "      <th>SettledDate</th>\n",
       "      <th>PaperlessBill</th>\n",
       "      <th>DaysToSettle</th>\n",
       "      <th>DaysLate</th>\n",
       "    </tr>\n",
       "  </thead>\n",
       "  <tbody>\n",
       "    <tr>\n",
       "      <th>0</th>\n",
       "      <td>391</td>\n",
       "      <td>0379-NEVHP</td>\n",
       "      <td>4/6/2013</td>\n",
       "      <td>611365</td>\n",
       "      <td>1/2/2013</td>\n",
       "      <td>2/1/2013</td>\n",
       "      <td>55.94</td>\n",
       "      <td>No</td>\n",
       "      <td>1/15/2013</td>\n",
       "      <td>Paper</td>\n",
       "      <td>13</td>\n",
       "      <td>0</td>\n",
       "    </tr>\n",
       "    <tr>\n",
       "      <th>1</th>\n",
       "      <td>406</td>\n",
       "      <td>8976-AMJEO</td>\n",
       "      <td>3/3/2012</td>\n",
       "      <td>7900770</td>\n",
       "      <td>1/26/2013</td>\n",
       "      <td>2/25/2013</td>\n",
       "      <td>61.74</td>\n",
       "      <td>Yes</td>\n",
       "      <td>3/3/2013</td>\n",
       "      <td>Electronic</td>\n",
       "      <td>36</td>\n",
       "      <td>6</td>\n",
       "    </tr>\n",
       "    <tr>\n",
       "      <th>2</th>\n",
       "      <td>391</td>\n",
       "      <td>2820-XGXSB</td>\n",
       "      <td>1/26/2012</td>\n",
       "      <td>9231909</td>\n",
       "      <td>7/3/2013</td>\n",
       "      <td>8/2/2013</td>\n",
       "      <td>65.88</td>\n",
       "      <td>No</td>\n",
       "      <td>7/8/2013</td>\n",
       "      <td>Electronic</td>\n",
       "      <td>5</td>\n",
       "      <td>0</td>\n",
       "    </tr>\n",
       "    <tr>\n",
       "      <th>3</th>\n",
       "      <td>406</td>\n",
       "      <td>9322-YCTQO</td>\n",
       "      <td>4/6/2012</td>\n",
       "      <td>9888306</td>\n",
       "      <td>2/10/2013</td>\n",
       "      <td>3/12/2013</td>\n",
       "      <td>105.92</td>\n",
       "      <td>No</td>\n",
       "      <td>3/17/2013</td>\n",
       "      <td>Electronic</td>\n",
       "      <td>35</td>\n",
       "      <td>5</td>\n",
       "    </tr>\n",
       "    <tr>\n",
       "      <th>4</th>\n",
       "      <td>818</td>\n",
       "      <td>6627-ELFBK</td>\n",
       "      <td>11/26/2012</td>\n",
       "      <td>15752855</td>\n",
       "      <td>10/25/2012</td>\n",
       "      <td>11/24/2012</td>\n",
       "      <td>72.27</td>\n",
       "      <td>Yes</td>\n",
       "      <td>11/28/2012</td>\n",
       "      <td>Paper</td>\n",
       "      <td>34</td>\n",
       "      <td>4</td>\n",
       "    </tr>\n",
       "  </tbody>\n",
       "</table>\n",
       "</div>"
      ],
      "text/plain": [
       "   countryCode  customerID PaperlessDate  invoiceNumber InvoiceDate  \\\n",
       "0          391  0379-NEVHP      4/6/2013         611365    1/2/2013   \n",
       "1          406  8976-AMJEO      3/3/2012        7900770   1/26/2013   \n",
       "2          391  2820-XGXSB     1/26/2012        9231909    7/3/2013   \n",
       "3          406  9322-YCTQO      4/6/2012        9888306   2/10/2013   \n",
       "4          818  6627-ELFBK    11/26/2012       15752855  10/25/2012   \n",
       "\n",
       "      DueDate  InvoiceAmount Disputed SettledDate PaperlessBill  DaysToSettle  \\\n",
       "0    2/1/2013          55.94       No   1/15/2013         Paper            13   \n",
       "1   2/25/2013          61.74      Yes    3/3/2013    Electronic            36   \n",
       "2    8/2/2013          65.88       No    7/8/2013    Electronic             5   \n",
       "3   3/12/2013         105.92       No   3/17/2013    Electronic            35   \n",
       "4  11/24/2012          72.27      Yes  11/28/2012         Paper            34   \n",
       "\n",
       "   DaysLate  \n",
       "0         0  \n",
       "1         6  \n",
       "2         0  \n",
       "3         5  \n",
       "4         4  "
      ]
     },
     "execution_count": 286,
     "metadata": {},
     "output_type": "execute_result"
    }
   ],
   "source": [
    "df.head()"
   ]
  },
  {
   "cell_type": "code",
   "execution_count": 287,
   "id": "55c699f1",
   "metadata": {},
   "outputs": [
    {
     "data": {
      "text/plain": [
       "(2466, 12)"
      ]
     },
     "execution_count": 287,
     "metadata": {},
     "output_type": "execute_result"
    }
   ],
   "source": [
    "df.shape"
   ]
  },
  {
   "cell_type": "code",
   "execution_count": 288,
   "id": "e1a30347",
   "metadata": {},
   "outputs": [
    {
     "data": {
      "text/plain": [
       "Index(['countryCode', 'customerID', 'PaperlessDate', 'invoiceNumber',\n",
       "       'InvoiceDate', 'DueDate', 'InvoiceAmount', 'Disputed', 'SettledDate',\n",
       "       'PaperlessBill', 'DaysToSettle', 'DaysLate'],\n",
       "      dtype='object')"
      ]
     },
     "execution_count": 288,
     "metadata": {},
     "output_type": "execute_result"
    }
   ],
   "source": [
    "df.columns"
   ]
  },
  {
   "cell_type": "code",
   "execution_count": 289,
   "id": "da8b6c2f",
   "metadata": {},
   "outputs": [
    {
     "data": {
      "text/plain": [
       "countryCode      0\n",
       "customerID       0\n",
       "PaperlessDate    0\n",
       "invoiceNumber    0\n",
       "InvoiceDate      0\n",
       "DueDate          0\n",
       "InvoiceAmount    0\n",
       "Disputed         0\n",
       "SettledDate      0\n",
       "PaperlessBill    0\n",
       "DaysToSettle     0\n",
       "DaysLate         0\n",
       "dtype: int64"
      ]
     },
     "execution_count": 289,
     "metadata": {},
     "output_type": "execute_result"
    }
   ],
   "source": [
    "df.isnull().sum()"
   ]
  },
  {
   "cell_type": "code",
   "execution_count": 290,
   "id": "29c4aac0",
   "metadata": {},
   "outputs": [],
   "source": [
    "df[['ElectronicBill','disputed']] = pd.get_dummies(df[['PaperlessBill', 'Disputed']])[['PaperlessBill_Electronic','Disputed_Yes']]"
   ]
  },
  {
   "cell_type": "code",
   "execution_count": 291,
   "id": "398da385",
   "metadata": {},
   "outputs": [],
   "source": [
    "df[['391','406','770','818','897']] = pd.get_dummies(df['countryCode'])"
   ]
  },
  {
   "cell_type": "code",
   "execution_count": 175,
   "id": "acb0aa7b",
   "metadata": {},
   "outputs": [
    {
     "data": {
      "text/html": [
       "<div>\n",
       "<style scoped>\n",
       "    .dataframe tbody tr th:only-of-type {\n",
       "        vertical-align: middle;\n",
       "    }\n",
       "\n",
       "    .dataframe tbody tr th {\n",
       "        vertical-align: top;\n",
       "    }\n",
       "\n",
       "    .dataframe thead th {\n",
       "        text-align: right;\n",
       "    }\n",
       "</style>\n",
       "<table border=\"1\" class=\"dataframe\">\n",
       "  <thead>\n",
       "    <tr style=\"text-align: right;\">\n",
       "      <th></th>\n",
       "      <th>countryCode</th>\n",
       "      <th>customerID</th>\n",
       "      <th>PaperlessDate</th>\n",
       "      <th>invoiceNumber</th>\n",
       "      <th>InvoiceDate</th>\n",
       "      <th>DueDate</th>\n",
       "      <th>InvoiceAmount</th>\n",
       "      <th>Disputed</th>\n",
       "      <th>SettledDate</th>\n",
       "      <th>PaperlessBill</th>\n",
       "      <th>DaysToSettle</th>\n",
       "      <th>DaysLate</th>\n",
       "      <th>ElectronicBill</th>\n",
       "      <th>disputed</th>\n",
       "      <th>391</th>\n",
       "      <th>406</th>\n",
       "      <th>770</th>\n",
       "      <th>818</th>\n",
       "      <th>897</th>\n",
       "      <th>Late</th>\n",
       "    </tr>\n",
       "  </thead>\n",
       "  <tbody>\n",
       "    <tr>\n",
       "      <th>0</th>\n",
       "      <td>391</td>\n",
       "      <td>0379-NEVHP</td>\n",
       "      <td>4/6/2013</td>\n",
       "      <td>611365</td>\n",
       "      <td>1/2/2013</td>\n",
       "      <td>2/1/2013</td>\n",
       "      <td>55.94</td>\n",
       "      <td>No</td>\n",
       "      <td>1/15/2013</td>\n",
       "      <td>Paper</td>\n",
       "      <td>13</td>\n",
       "      <td>0</td>\n",
       "      <td>0</td>\n",
       "      <td>0</td>\n",
       "      <td>1</td>\n",
       "      <td>0</td>\n",
       "      <td>0</td>\n",
       "      <td>0</td>\n",
       "      <td>0</td>\n",
       "      <td>0</td>\n",
       "    </tr>\n",
       "    <tr>\n",
       "      <th>1</th>\n",
       "      <td>406</td>\n",
       "      <td>8976-AMJEO</td>\n",
       "      <td>3/3/2012</td>\n",
       "      <td>7900770</td>\n",
       "      <td>1/26/2013</td>\n",
       "      <td>2/25/2013</td>\n",
       "      <td>61.74</td>\n",
       "      <td>Yes</td>\n",
       "      <td>3/3/2013</td>\n",
       "      <td>Electronic</td>\n",
       "      <td>36</td>\n",
       "      <td>6</td>\n",
       "      <td>1</td>\n",
       "      <td>1</td>\n",
       "      <td>0</td>\n",
       "      <td>1</td>\n",
       "      <td>0</td>\n",
       "      <td>0</td>\n",
       "      <td>0</td>\n",
       "      <td>1</td>\n",
       "    </tr>\n",
       "    <tr>\n",
       "      <th>2</th>\n",
       "      <td>391</td>\n",
       "      <td>2820-XGXSB</td>\n",
       "      <td>1/26/2012</td>\n",
       "      <td>9231909</td>\n",
       "      <td>7/3/2013</td>\n",
       "      <td>8/2/2013</td>\n",
       "      <td>65.88</td>\n",
       "      <td>No</td>\n",
       "      <td>7/8/2013</td>\n",
       "      <td>Electronic</td>\n",
       "      <td>5</td>\n",
       "      <td>0</td>\n",
       "      <td>1</td>\n",
       "      <td>0</td>\n",
       "      <td>1</td>\n",
       "      <td>0</td>\n",
       "      <td>0</td>\n",
       "      <td>0</td>\n",
       "      <td>0</td>\n",
       "      <td>0</td>\n",
       "    </tr>\n",
       "    <tr>\n",
       "      <th>3</th>\n",
       "      <td>406</td>\n",
       "      <td>9322-YCTQO</td>\n",
       "      <td>4/6/2012</td>\n",
       "      <td>9888306</td>\n",
       "      <td>2/10/2013</td>\n",
       "      <td>3/12/2013</td>\n",
       "      <td>105.92</td>\n",
       "      <td>No</td>\n",
       "      <td>3/17/2013</td>\n",
       "      <td>Electronic</td>\n",
       "      <td>35</td>\n",
       "      <td>5</td>\n",
       "      <td>1</td>\n",
       "      <td>0</td>\n",
       "      <td>0</td>\n",
       "      <td>1</td>\n",
       "      <td>0</td>\n",
       "      <td>0</td>\n",
       "      <td>0</td>\n",
       "      <td>1</td>\n",
       "    </tr>\n",
       "    <tr>\n",
       "      <th>4</th>\n",
       "      <td>818</td>\n",
       "      <td>6627-ELFBK</td>\n",
       "      <td>11/26/2012</td>\n",
       "      <td>15752855</td>\n",
       "      <td>10/25/2012</td>\n",
       "      <td>11/24/2012</td>\n",
       "      <td>72.27</td>\n",
       "      <td>Yes</td>\n",
       "      <td>11/28/2012</td>\n",
       "      <td>Paper</td>\n",
       "      <td>34</td>\n",
       "      <td>4</td>\n",
       "      <td>0</td>\n",
       "      <td>1</td>\n",
       "      <td>0</td>\n",
       "      <td>0</td>\n",
       "      <td>0</td>\n",
       "      <td>1</td>\n",
       "      <td>0</td>\n",
       "      <td>1</td>\n",
       "    </tr>\n",
       "  </tbody>\n",
       "</table>\n",
       "</div>"
      ],
      "text/plain": [
       "   countryCode  customerID PaperlessDate  invoiceNumber InvoiceDate  \\\n",
       "0          391  0379-NEVHP      4/6/2013         611365    1/2/2013   \n",
       "1          406  8976-AMJEO      3/3/2012        7900770   1/26/2013   \n",
       "2          391  2820-XGXSB     1/26/2012        9231909    7/3/2013   \n",
       "3          406  9322-YCTQO      4/6/2012        9888306   2/10/2013   \n",
       "4          818  6627-ELFBK    11/26/2012       15752855  10/25/2012   \n",
       "\n",
       "      DueDate  InvoiceAmount Disputed SettledDate PaperlessBill  DaysToSettle  \\\n",
       "0    2/1/2013          55.94       No   1/15/2013         Paper            13   \n",
       "1   2/25/2013          61.74      Yes    3/3/2013    Electronic            36   \n",
       "2    8/2/2013          65.88       No    7/8/2013    Electronic             5   \n",
       "3   3/12/2013         105.92       No   3/17/2013    Electronic            35   \n",
       "4  11/24/2012          72.27      Yes  11/28/2012         Paper            34   \n",
       "\n",
       "   DaysLate  ElectronicBill  disputed  391  406  770  818  897  Late  \n",
       "0         0               0         0    1    0    0    0    0     0  \n",
       "1         6               1         1    0    1    0    0    0     1  \n",
       "2         0               1         0    1    0    0    0    0     0  \n",
       "3         5               1         0    0    1    0    0    0     1  \n",
       "4         4               0         1    0    0    0    1    0     1  "
      ]
     },
     "execution_count": 175,
     "metadata": {},
     "output_type": "execute_result"
    }
   ],
   "source": [
    "df.head()"
   ]
  },
  {
   "cell_type": "markdown",
   "id": "dcfea982",
   "metadata": {},
   "source": [
    "There is high correlation between DaysLate (which we want to predict) and features: DaysToSettle and Disputed and ElectronicBill"
   ]
  },
  {
   "cell_type": "code",
   "execution_count": 292,
   "id": "b5895a23",
   "metadata": {},
   "outputs": [
    {
     "data": {
      "image/png": "[encoded data removed]",
      "text/plain": [
       "<Figure size 720x720 with 2 Axes>"
      ]
     },
     "metadata": {
      "needs_background": "light"
     },
     "output_type": "display_data"
    }
   ],
   "source": [
    "corremat = df.drop(['customerID','PaperlessDate','invoiceNumber',\n",
    "                    'DueDate','SettledDate','InvoiceDate'], axis = 1).corr()\n",
    "plt.figure(figsize=(10,10))\n",
    "g= sns.heatmap(corremat,annot=True,cmap='viridis',linewidths=.5)"
   ]
  },
  {
   "cell_type": "code",
   "execution_count": 294,
   "id": "1c84927d",
   "metadata": {},
   "outputs": [
    {
     "data": {
      "text/plain": [
       "Index(['countryCode', 'customerID', 'PaperlessDate', 'invoiceNumber',\n",
       "       'InvoiceDate', 'DueDate', 'InvoiceAmount', 'Disputed', 'SettledDate',\n",
       "       'PaperlessBill', 'DaysToSettle', 'DaysLate', 'ElectronicBill',\n",
       "       'disputed', '391', '406', '770', '818', '897'],\n",
       "      dtype='object')"
      ]
     },
     "execution_count": 294,
     "metadata": {},
     "output_type": "execute_result"
    }
   ],
   "source": [
    "df.columns"
   ]
  },
  {
   "cell_type": "code",
   "execution_count": 295,
   "id": "e46cde3d",
   "metadata": {},
   "outputs": [],
   "source": [
    "x_train,x_test, y_train,y_test = train_test_split(df.drop(['customerID','PaperlessDate','invoiceNumber','countryCode',\n",
    "                                                          'DueDate','SettledDate', 'InvoiceDate',\n",
    "                                                          'Disputed','PaperlessBill','DaysLate'], axis = 1),\n",
    "                                                 df['DaysLate'], test_size = 0.33)"
   ]
  },
  {
   "cell_type": "code",
   "execution_count": 296,
   "id": "eb70424c",
   "metadata": {},
   "outputs": [],
   "source": [
    "x_train_train, x_val, y_train_train, y_val = train_test_split(x_train, y_train, test_size = 0.33)"
   ]
  },
  {
   "cell_type": "code",
   "execution_count": 297,
   "id": "ba622b8e",
   "metadata": {},
   "outputs": [
    {
     "data": {
      "text/html": [
       "<div>\n",
       "<style scoped>\n",
       "    .dataframe tbody tr th:only-of-type {\n",
       "        vertical-align: middle;\n",
       "    }\n",
       "\n",
       "    .dataframe tbody tr th {\n",
       "        vertical-align: top;\n",
       "    }\n",
       "\n",
       "    .dataframe thead th {\n",
       "        text-align: right;\n",
       "    }\n",
       "</style>\n",
       "<table border=\"1\" class=\"dataframe\">\n",
       "  <thead>\n",
       "    <tr style=\"text-align: right;\">\n",
       "      <th></th>\n",
       "      <th>InvoiceAmount</th>\n",
       "      <th>DaysToSettle</th>\n",
       "      <th>ElectronicBill</th>\n",
       "      <th>disputed</th>\n",
       "      <th>391</th>\n",
       "      <th>406</th>\n",
       "      <th>770</th>\n",
       "      <th>818</th>\n",
       "      <th>897</th>\n",
       "    </tr>\n",
       "  </thead>\n",
       "  <tbody>\n",
       "    <tr>\n",
       "      <th>2045</th>\n",
       "      <td>47.35</td>\n",
       "      <td>22</td>\n",
       "      <td>0</td>\n",
       "      <td>0</td>\n",
       "      <td>0</td>\n",
       "      <td>0</td>\n",
       "      <td>1</td>\n",
       "      <td>0</td>\n",
       "      <td>0</td>\n",
       "    </tr>\n",
       "    <tr>\n",
       "      <th>852</th>\n",
       "      <td>84.39</td>\n",
       "      <td>27</td>\n",
       "      <td>1</td>\n",
       "      <td>1</td>\n",
       "      <td>0</td>\n",
       "      <td>0</td>\n",
       "      <td>0</td>\n",
       "      <td>1</td>\n",
       "      <td>0</td>\n",
       "    </tr>\n",
       "    <tr>\n",
       "      <th>1118</th>\n",
       "      <td>47.33</td>\n",
       "      <td>14</td>\n",
       "      <td>1</td>\n",
       "      <td>0</td>\n",
       "      <td>0</td>\n",
       "      <td>0</td>\n",
       "      <td>1</td>\n",
       "      <td>0</td>\n",
       "      <td>0</td>\n",
       "    </tr>\n",
       "    <tr>\n",
       "      <th>2263</th>\n",
       "      <td>66.51</td>\n",
       "      <td>16</td>\n",
       "      <td>1</td>\n",
       "      <td>0</td>\n",
       "      <td>0</td>\n",
       "      <td>0</td>\n",
       "      <td>0</td>\n",
       "      <td>1</td>\n",
       "      <td>0</td>\n",
       "    </tr>\n",
       "    <tr>\n",
       "      <th>579</th>\n",
       "      <td>9.19</td>\n",
       "      <td>57</td>\n",
       "      <td>1</td>\n",
       "      <td>0</td>\n",
       "      <td>0</td>\n",
       "      <td>0</td>\n",
       "      <td>0</td>\n",
       "      <td>0</td>\n",
       "      <td>1</td>\n",
       "    </tr>\n",
       "  </tbody>\n",
       "</table>\n",
       "</div>"
      ],
      "text/plain": [
       "      InvoiceAmount  DaysToSettle  ElectronicBill  disputed  391  406  770  \\\n",
       "2045          47.35            22               0         0    0    0    1   \n",
       "852           84.39            27               1         1    0    0    0   \n",
       "1118          47.33            14               1         0    0    0    1   \n",
       "2263          66.51            16               1         0    0    0    0   \n",
       "579            9.19            57               1         0    0    0    0   \n",
       "\n",
       "      818  897  \n",
       "2045    0    0  \n",
       "852     1    0  \n",
       "1118    0    0  \n",
       "2263    1    0  \n",
       "579     0    1  "
      ]
     },
     "execution_count": 297,
     "metadata": {},
     "output_type": "execute_result"
    }
   ],
   "source": [
    "x_train_train.head()"
   ]
  },
  {
   "cell_type": "code",
   "execution_count": 298,
   "id": "27b68d95",
   "metadata": {},
   "outputs": [],
   "source": [
    "#clf = make_pipeline(StandardScaler(), LinearRegression())\n",
    "clf = LinearRegression()"
   ]
  },
  {
   "cell_type": "code",
   "execution_count": 299,
   "id": "cd58fe8b",
   "metadata": {},
   "outputs": [
    {
     "data": {
      "text/plain": [
       "LinearRegression()"
      ]
     },
     "execution_count": 299,
     "metadata": {},
     "output_type": "execute_result"
    }
   ],
   "source": [
    "clf.fit(x_train_train, y_train_train)"
   ]
  },
  {
   "cell_type": "code",
   "execution_count": 300,
   "id": "f718baca",
   "metadata": {},
   "outputs": [
    {
     "data": {
      "text/plain": [
       "(1106,)"
      ]
     },
     "execution_count": 300,
     "metadata": {},
     "output_type": "execute_result"
    }
   ],
   "source": [
    "y_train_train.shape"
   ]
  },
  {
   "cell_type": "code",
   "execution_count": 301,
   "id": "e913d43d",
   "metadata": {},
   "outputs": [],
   "source": [
    "train_pred = clf.predict(x_train_train)\n",
    "val_pred = clf.predict(x_val)\n"
   ]
  },
  {
   "cell_type": "code",
   "execution_count": 302,
   "id": "952b509c",
   "metadata": {},
   "outputs": [
    {
     "data": {
      "text/plain": [
       "12.685900666810554"
      ]
     },
     "execution_count": 302,
     "metadata": {},
     "output_type": "execute_result"
    }
   ],
   "source": [
    "mean_squared_error(y_val, val_pred)"
   ]
  },
  {
   "cell_type": "code",
   "execution_count": 303,
   "id": "e7f9ad01",
   "metadata": {},
   "outputs": [
    {
     "data": {
      "text/plain": [
       "12.94536224568828"
      ]
     },
     "execution_count": 303,
     "metadata": {},
     "output_type": "execute_result"
    }
   ],
   "source": [
    "mean_squared_error(y_train_train, train_pred)"
   ]
  },
  {
   "cell_type": "code",
   "execution_count": 304,
   "id": "a2c764f5",
   "metadata": {},
   "outputs": [
    {
     "data": {
      "text/plain": [
       "array([ 0.00795503,  0.40324436, -0.00933605,  1.66416589, -0.51194644,\n",
       "       -0.34737993, -0.59701793,  0.54748728,  0.90885702])"
      ]
     },
     "execution_count": 304,
     "metadata": {},
     "output_type": "execute_result"
    }
   ],
   "source": [
    "clf.coef_"
   ]
  },
  {
   "cell_type": "code",
   "execution_count": 305,
   "id": "44d2f3b6",
   "metadata": {},
   "outputs": [
    {
     "data": {
      "text/plain": [
       "Index(['InvoiceAmount', 'DaysToSettle', 'ElectronicBill', 'disputed', '391',\n",
       "       '406', '770', '818', '897'],\n",
       "      dtype='object')"
      ]
     },
     "execution_count": 305,
     "metadata": {},
     "output_type": "execute_result"
    }
   ],
   "source": [
    "x_train_train.columns"
   ]
  },
  {
   "cell_type": "code",
   "execution_count": 306,
   "id": "c45bf298",
   "metadata": {},
   "outputs": [
    {
     "data": {
      "text/plain": [
       "0.6943597822081227"
      ]
     },
     "execution_count": 306,
     "metadata": {},
     "output_type": "execute_result"
    }
   ],
   "source": [
    "clf.score(x_train_train, y_train_train)"
   ]
  },
  {
   "cell_type": "code",
   "execution_count": 307,
   "id": "cccf906b",
   "metadata": {},
   "outputs": [
    {
     "data": {
      "text/plain": [
       "0.6737725820677875"
      ]
     },
     "execution_count": 307,
     "metadata": {},
     "output_type": "execute_result"
    }
   ],
   "source": [
    "clf.score(x_val, y_val)"
   ]
  },
  {
   "cell_type": "code",
   "execution_count": null,
   "id": "2e67864e",
   "metadata": {},
   "outputs": [],
   "source": []
  },
  {
   "cell_type": "markdown",
   "id": "0fd73ba4",
   "metadata": {},
   "source": [
    "## gradient boosting regressor"
   ]
  },
  {
   "cell_type": "code",
   "execution_count": 308,
   "id": "7b26944a",
   "metadata": {},
   "outputs": [
    {
     "data": {
      "text/plain": [
       "GradientBoostingRegressor()"
      ]
     },
     "execution_count": 308,
     "metadata": {},
     "output_type": "execute_result"
    }
   ],
   "source": [
    "reg = GradientBoostingRegressor()\n",
    "reg.fit(x_train_train, y_train_train)"
   ]
  },
  {
   "cell_type": "code",
   "execution_count": 309,
   "id": "7e5f4eb9",
   "metadata": {},
   "outputs": [
    {
     "data": {
      "text/plain": [
       "0.9999999987571712"
      ]
     },
     "execution_count": 309,
     "metadata": {},
     "output_type": "execute_result"
    }
   ],
   "source": [
    "reg.score(x_train_train, y_train_train)"
   ]
  },
  {
   "cell_type": "code",
   "execution_count": 310,
   "id": "d2891a0f",
   "metadata": {},
   "outputs": [
    {
     "data": {
      "text/plain": [
       "0.9969834953849367"
      ]
     },
     "execution_count": 310,
     "metadata": {},
     "output_type": "execute_result"
    }
   ],
   "source": [
    "reg.score(x_val, y_val)"
   ]
  },
  {
   "cell_type": "code",
   "execution_count": 311,
   "id": "23901ee4",
   "metadata": {},
   "outputs": [
    {
     "data": {
      "text/plain": [
       "0.11730184467701603"
      ]
     },
     "execution_count": 311,
     "metadata": {},
     "output_type": "execute_result"
    }
   ],
   "source": [
    "mean_squared_error(reg.predict(x_val), y_val)"
   ]
  },
  {
   "cell_type": "markdown",
   "id": "7f9e6a37",
   "metadata": {},
   "source": [
    "## Random Forest Regressor"
   ]
  },
  {
   "cell_type": "code",
   "execution_count": 312,
   "id": "c90cb1be",
   "metadata": {},
   "outputs": [
    {
     "data": {
      "text/plain": [
       "RandomForestRegressor(n_estimators=1000)"
      ]
     },
     "execution_count": 312,
     "metadata": {},
     "output_type": "execute_result"
    }
   ],
   "source": [
    "RFR = RandomForestRegressor(n_estimators = 1000)\n",
    "RFR.fit(x_train_train, y_train_train)"
   ]
  },
  {
   "cell_type": "code",
   "execution_count": 313,
   "id": "f8528b0f",
   "metadata": {},
   "outputs": [
    {
     "data": {
      "text/plain": [
       "0.17153130769230776"
      ]
     },
     "execution_count": 313,
     "metadata": {},
     "output_type": "execute_result"
    }
   ],
   "source": [
    "mean_squared_error(RFR.predict(x_val), y_val)"
   ]
  },
  {
   "cell_type": "code",
   "execution_count": 314,
   "id": "d883e35b",
   "metadata": {},
   "outputs": [
    {
     "data": {
      "text/plain": [
       "0.9955889442087941"
      ]
     },
     "execution_count": 314,
     "metadata": {},
     "output_type": "execute_result"
    }
   ],
   "source": [
    "RFR.score(x_val, y_val)"
   ]
  },
  {
   "cell_type": "markdown",
   "id": "cad5aa23",
   "metadata": {},
   "source": [
    "## Lightgbm Regressor"
   ]
  },
  {
   "cell_type": "code",
   "execution_count": 315,
   "id": "20dc7b25",
   "metadata": {},
   "outputs": [],
   "source": [
    "fit_params={\"early_stopping_rounds\":30,\n",
    "            \"eval_metric\" : 'auc',\n",
    "            \"eval_set\" : [(x_val,y_val)],\n",
    "            'eval_names': ['valid'],\n",
    "            'verbose': 100,\n",
    "            'feature_name': 'auto', # that's actually the default\n",
    "            'categorical_feature': 'auto' # that's actually the default\n",
    "           }\n",
    "\n",
    "clf = lgb.LGBMRegressor(max_depth=7,\n",
    "                        boosting_type='gbdt',\n",
    "                         n_jobs=10,\n",
    "                         n_estimators=1000,\n",
    "                         feature_fraction = 0.6,\n",
    "                         bagging_fraction = 0.6,\n",
    "                         learning_rate=0.1)\n"
   ]
  },
  {
   "cell_type": "code",
   "execution_count": 316,
   "id": "0674201f",
   "metadata": {},
   "outputs": [
    {
     "name": "stdout",
     "output_type": "stream",
     "text": [
      "[LightGBM] [Warning] feature_fraction is set=0.6, colsample_bytree=1.0 will be ignored. Current value: feature_fraction=0.6\n",
      "[LightGBM] [Warning] bagging_fraction is set=0.6, subsample=1.0 will be ignored. Current value: bagging_fraction=0.6\n"
     ]
    },
    {
     "data": {
      "text/plain": [
       "LGBMRegressor(bagging_fraction=0.6, feature_fraction=0.6, max_depth=7,\n",
       "              n_estimators=1000, n_jobs=10)"
      ]
     },
     "execution_count": 316,
     "metadata": {},
     "output_type": "execute_result"
    }
   ],
   "source": [
    "clf.fit(x_train_train, y_train_train)"
   ]
  },
  {
   "cell_type": "code",
   "execution_count": 317,
   "id": "c5d8f184",
   "metadata": {},
   "outputs": [
    {
     "data": {
      "text/plain": [
       "0.9764641166204694"
      ]
     },
     "execution_count": 317,
     "metadata": {},
     "output_type": "execute_result"
    }
   ],
   "source": [
    "clf.score(x_val, y_val)"
   ]
  },
  {
   "cell_type": "markdown",
   "id": "b8fd0ddb",
   "metadata": {},
   "source": [
    "## running a cross validation to see the average scores"
   ]
  },
  {
   "cell_type": "code",
   "execution_count": 318,
   "id": "4ee1a3d8",
   "metadata": {},
   "outputs": [
    {
     "name": "stdout",
     "output_type": "stream",
     "text": [
      "[LightGBM] [Warning] feature_fraction is set=0.6, colsample_bytree=1.0 will be ignored. Current value: feature_fraction=0.6\n",
      "[LightGBM] [Warning] bagging_fraction is set=0.6, subsample=1.0 will be ignored. Current value: bagging_fraction=0.6\n",
      "[LightGBM] [Warning] feature_fraction is set=0.6, colsample_bytree=1.0 will be ignored. Current value: feature_fraction=0.6\n",
      "[LightGBM] [Warning] bagging_fraction is set=0.6, subsample=1.0 will be ignored. Current value: bagging_fraction=0.6\n",
      "[LightGBM] [Warning] feature_fraction is set=0.6, colsample_bytree=1.0 will be ignored. Current value: feature_fraction=0.6\n",
      "[LightGBM] [Warning] bagging_fraction is set=0.6, subsample=1.0 will be ignored. Current value: bagging_fraction=0.6\n",
      "[LightGBM] [Warning] feature_fraction is set=0.6, colsample_bytree=1.0 will be ignored. Current value: feature_fraction=0.6\n",
      "[LightGBM] [Warning] bagging_fraction is set=0.6, subsample=1.0 will be ignored. Current value: bagging_fraction=0.6\n",
      "[LightGBM] [Warning] feature_fraction is set=0.6, colsample_bytree=1.0 will be ignored. Current value: feature_fraction=0.6\n",
      "[LightGBM] [Warning] bagging_fraction is set=0.6, subsample=1.0 will be ignored. Current value: bagging_fraction=0.6\n"
     ]
    }
   ],
   "source": [
    "n_splits = 5\n",
    "kf = KFold(n_splits, shuffle = True)\n",
    "i = 0\n",
    "scores = np.zeros((5,3))\n",
    "for train_index, test_index in kf.split(x_train, y_train):\n",
    "    x_train_cv = x_train.iloc[train_index]\n",
    "    y_train_cv = y_train.iloc[train_index]\n",
    "    x_test_cv = x_train.iloc[test_index]\n",
    "    y_test_cv = y_train.iloc[test_index]\n",
    "\n",
    "    LR = LinearRegression()\n",
    "    reg = GradientBoostingRegressor()\n",
    "    clf = lgb.LGBMRegressor(max_depth=7,\n",
    "                        boosting_type='gbdt',\n",
    "                         n_jobs=10,\n",
    "                         n_estimators=1000,\n",
    "                         feature_fraction = 0.6,\n",
    "                         bagging_fraction = 0.6,\n",
    "                         learning_rate=0.1)\n",
    "    LR.fit(x_train_cv,y_train_cv)\n",
    "    reg.fit(x_train_cv,y_train_cv)\n",
    "    clf.fit(x_train_cv, y_train_cv)\n",
    "    scores[i,0] = LR.score(x_test_cv, y_test_cv)\n",
    "    scores[i,1] = reg.score(x_test_cv, y_test_cv)\n",
    "    scores[i,2] = clf.score(x_test_cv, y_test_cv)\n",
    "    i = i + 1"
   ]
  },
  {
   "cell_type": "code",
   "execution_count": 319,
   "id": "22a97e04",
   "metadata": {},
   "outputs": [
    {
     "data": {
      "text/plain": [
       "array([[0.68971076, 0.99999999, 0.99582901],\n",
       "       [0.6608603 , 0.99928051, 0.98658105],\n",
       "       [0.679745  , 0.99990945, 0.99639901],\n",
       "       [0.66840783, 0.99985985, 0.99053658],\n",
       "       [0.71206817, 0.99621921, 0.96988854]])"
      ]
     },
     "execution_count": 319,
     "metadata": {},
     "output_type": "execute_result"
    }
   ],
   "source": [
    "scores"
   ]
  },
  {
   "cell_type": "code",
   "execution_count": 320,
   "id": "ce0665a2",
   "metadata": {},
   "outputs": [
    {
     "data": {
      "text/plain": [
       "array([0.68215841, 0.9990538 , 0.98784684])"
      ]
     },
     "execution_count": 320,
     "metadata": {},
     "output_type": "execute_result"
    }
   ],
   "source": [
    "# It seems that GradientBoostingRegressor has the best score\n",
    "scores.mean(axis = 0)"
   ]
  },
  {
   "cell_type": "code",
   "execution_count": null,
   "id": "54ae18bf",
   "metadata": {},
   "outputs": [],
   "source": []
  },
  {
   "cell_type": "code",
   "execution_count": null,
   "id": "34df86fa",
   "metadata": {},
   "outputs": [],
   "source": []
  },
  {
   "cell_type": "code",
   "execution_count": null,
   "id": "991630b9",
   "metadata": {},
   "outputs": [],
   "source": []
  },
  {
   "cell_type": "code",
   "execution_count": null,
   "id": "0833eba8",
   "metadata": {},
   "outputs": [],
   "source": []
  }
 ],
 "metadata": {
  "kernelspec": {
   "display_name": "Python 3 (ipykernel)",
   "language": "python",
   "name": "python3"
  },
  "language_info": {
   "codemirror_mode": {
    "name": "ipython",
    "version": 3
   },
   "file_extension": ".py",
   "mimetype": "text/x-python",
   "name": "python",
   "nbconvert_exporter": "python",
   "pygments_lexer": "ipython3",
   "version": "3.7.4"
  }
 },
 "nbformat": 4,
 "nbformat_minor": 5
}
